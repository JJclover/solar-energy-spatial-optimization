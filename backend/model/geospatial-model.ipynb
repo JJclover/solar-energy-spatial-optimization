{
 "cells": [
  {
   "cell_type": "code",
   "execution_count": null,
   "metadata": {},
   "outputs": [],
   "source": [
    "from pyspark.sql import SparkSession\n",
    "import geopandas as gpd\n",
    "import os\n",
    "from datetime import datetime, timedelta\n",
    "\n",
    "# Create a Spark session\n",
    "spark = SparkSession.builder.getOrCreate()\n",
    "\n",
    "# Load some data into a Spark DataFrame\n",
    "df = spark.read.format(\"csv\").option(\"header\", \"true\").load(\"data.csv\")\n",
    "\n",
    "# Convert to a Pandas DataFrame\n",
    "pdf = df.toPandas()\n",
    "\n",
    "# Convert to a GeoPandas DataFrame\n",
    "gdf = gpd.GeoDataFrame(pdf)"
   ]
  }
 ],
 "metadata": {
  "language_info": {
   "name": "python"
  },
  "orig_nbformat": 4
 },
 "nbformat": 4,
 "nbformat_minor": 2
}
