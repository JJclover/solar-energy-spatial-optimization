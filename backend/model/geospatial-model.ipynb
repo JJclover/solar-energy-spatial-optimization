{
 "cells": [
  {
   "cell_type": "code",
   "execution_count": 2,
   "metadata": {},
   "outputs": [
    {
     "name": "stdout",
     "output_type": "stream",
     "text": [
      ":: loading settings :: url = jar:file:/Library/Frameworks/Python.framework/Versions/3.10/lib/python3.10/site-packages/pyspark/jars/ivy-2.5.1.jar!/org/apache/ivy/core/settings/ivysettings.xml\n"
     ]
    },
    {
     "name": "stderr",
     "output_type": "stream",
     "text": [
      "Ivy Default Cache set to: /Users/maxheilingbrunner/.ivy2/cache\n",
      "The jars for the packages stored in: /Users/maxheilingbrunner/.ivy2/jars\n",
      "org.apache.sedona#sedona-python-adapter-3.0_2.12 added as a dependency\n",
      ":: resolving dependencies :: org.apache.spark#spark-submit-parent-f206d3ef-e076-4f65-8aff-06a2a7fc1086;1.0\n",
      "\tconfs: [default]\n",
      "\tfound org.apache.sedona#sedona-python-adapter-3.0_2.12;1.0.0-incubating in central\n",
      "\tfound org.locationtech.jts#jts-core;1.18.0 in central\n",
      "\tfound org.wololo#jts2geojson;0.14.3 in central\n",
      "\tfound org.apache.sedona#sedona-core-3.0_2.12;1.0.0-incubating in central\n",
      "\tfound org.apache.sedona#sedona-sql-3.0_2.12;1.0.0-incubating in central\n",
      "downloading https://repo1.maven.org/maven2/org/apache/sedona/sedona-python-adapter-3.0_2.12/1.0.0-incubating/sedona-python-adapter-3.0_2.12-1.0.0-incubating.jar ...\n",
      "\t[SUCCESSFUL ] org.apache.sedona#sedona-python-adapter-3.0_2.12;1.0.0-incubating!sedona-python-adapter-3.0_2.12.jar (1645ms)\n",
      "downloading https://repo1.maven.org/maven2/org/locationtech/jts/jts-core/1.18.0/jts-core-1.18.0.jar ...\n",
      "\t[SUCCESSFUL ] org.locationtech.jts#jts-core;1.18.0!jts-core.jar(bundle) (1059ms)\n",
      "downloading https://repo1.maven.org/maven2/org/wololo/jts2geojson/0.14.3/jts2geojson-0.14.3.jar ...\n",
      "\t[SUCCESSFUL ] org.wololo#jts2geojson;0.14.3!jts2geojson.jar (175ms)\n",
      "downloading https://repo1.maven.org/maven2/org/apache/sedona/sedona-core-3.0_2.12/1.0.0-incubating/sedona-core-3.0_2.12-1.0.0-incubating.jar ...\n",
      "\t[SUCCESSFUL ] org.apache.sedona#sedona-core-3.0_2.12;1.0.0-incubating!sedona-core-3.0_2.12.jar (230ms)\n",
      "downloading https://repo1.maven.org/maven2/org/apache/sedona/sedona-sql-3.0_2.12/1.0.0-incubating/sedona-sql-3.0_2.12-1.0.0-incubating.jar ...\n",
      "\t[SUCCESSFUL ] org.apache.sedona#sedona-sql-3.0_2.12;1.0.0-incubating!sedona-sql-3.0_2.12.jar (276ms)\n",
      ":: resolution report :: resolve 4369ms :: artifacts dl 3391ms\n",
      "\t:: modules in use:\n",
      "\torg.apache.sedona#sedona-core-3.0_2.12;1.0.0-incubating from central in [default]\n",
      "\torg.apache.sedona#sedona-python-adapter-3.0_2.12;1.0.0-incubating from central in [default]\n",
      "\torg.apache.sedona#sedona-sql-3.0_2.12;1.0.0-incubating from central in [default]\n",
      "\torg.locationtech.jts#jts-core;1.18.0 from central in [default]\n",
      "\torg.wololo#jts2geojson;0.14.3 from central in [default]\n",
      "\t---------------------------------------------------------------------\n",
      "\t|                  |            modules            ||   artifacts   |\n",
      "\t|       conf       | number| search|dwnlded|evicted|| number|dwnlded|\n",
      "\t---------------------------------------------------------------------\n",
      "\t|      default     |   5   |   5   |   5   |   0   ||   5   |   5   |\n",
      "\t---------------------------------------------------------------------\n",
      ":: retrieving :: org.apache.spark#spark-submit-parent-f206d3ef-e076-4f65-8aff-06a2a7fc1086\n",
      "\tconfs: [default]\n",
      "\t5 artifacts copied, 0 already retrieved (3423kB/7ms)\n",
      "23/06/16 10:01:58 WARN NativeCodeLoader: Unable to load native-hadoop library for your platform... using builtin-java classes where applicable\n",
      "Setting default log level to \"WARN\".\n",
      "To adjust logging level use sc.setLogLevel(newLevel). For SparkR, use setLogLevel(newLevel).\n"
     ]
    }
   ],
   "source": [
    "from pyspark.sql import SparkSession\n",
    "import os\n",
    "from datetime import datetime, timedelta\n",
    "\n",
    "# Create a Spark session\n",
    "spark = SparkSession.builder \\\n",
    "    .appName(\"SedonaApp\") \\\n",
    "    .config(\"spark.jars.packages\", \"org.apache.sedona:sedona-python-adapter-3.0_2.12:1.0.0-incubating\") \\\n",
    "    .config(\"spark.serializer\", \"org.apache.spark.serializer.KryoSerializer\") \\\n",
    "    .config(\"spark.kryo.registrator\", \"org.apache.sedona.core.serde.SedonaKryoRegistrator\") \\\n",
    "    .getOrCreate()\n",
    "\n",
    "# Set Sedona configuration\n",
    "spark.sparkContext.setSystemProperty(\"sedona.global.charset\", \"utf8\")"
   ]
  },
  {
   "cell_type": "code",
   "execution_count": 3,
   "metadata": {},
   "outputs": [
    {
     "ename": "ModuleNotFoundError",
     "evalue": "No module named 'sedona.register'",
     "output_type": "error",
     "traceback": [
      "\u001b[0;31m---------------------------------------------------------------------------\u001b[0m",
      "\u001b[0;31mModuleNotFoundError\u001b[0m                       Traceback (most recent call last)",
      "Cell \u001b[0;32mIn[3], line 1\u001b[0m\n\u001b[0;32m----> 1\u001b[0m \u001b[39mfrom\u001b[39;00m \u001b[39msedona\u001b[39;00m\u001b[39m.\u001b[39;00m\u001b[39mregister\u001b[39;00m \u001b[39mimport\u001b[39;00m SedonaRegistrator\n\u001b[1;32m      3\u001b[0m SedonaRegistrator\u001b[39m.\u001b[39mregisterAll(spark)\n",
      "\u001b[0;31mModuleNotFoundError\u001b[0m: No module named 'sedona.register'"
     ]
    }
   ],
   "source": [
    "from sedona.register import SedonaRegistrator\n",
    "\n",
    "SedonaRegistrator.registerAll(spark)"
   ]
  },
  {
   "cell_type": "code",
   "execution_count": null,
   "metadata": {},
   "outputs": [],
   "source": [
    "from sedona.utils.adapter import Adapter\n",
    "from sedona.core.formatMapper.shapefileParser import ShapefileReader\n",
    "from sedona.core.SpatialRDD import SpatialRDD\n",
    "\n",
    "# Read a shapefile into a SpatialRDD\n",
    "spatial_rdd = ShapefileReader.readToGeometryRDD(spark.sparkContext, \"path_to_shapefile\")\n",
    "\n",
    "# Transform the SpatialRDD to a DataFrame\n",
    "spatial_df = Adapter.toDf(spatial_rdd, spark)\n",
    "\n",
    "# Register the DataFrame as a temporary table and run SQL queries\n",
    "spatial_df.createOrReplaceTempView(\"spatial_table\")\n",
    "result = spark.sql(\"SELECT * FROM spatial_table WHERE st_contains(geometry, st_point(1.5, 1.5))\")\n",
    "\n",
    "# Show the results\n",
    "result.show()"
   ]
  },
  {
   "cell_type": "code",
   "execution_count": 10,
   "metadata": {},
   "outputs": [
    {
     "name": "stderr",
     "output_type": "stream",
     "text": [
      "[Stage 1:>                                                       (0 + 10) / 102]\r"
     ]
    }
   ],
   "source": [
    "from pyspark.sql import SparkSession\n",
    "from datetime import datetime, timedelta\n",
    "import os\n",
    "\n",
    "# Initialize Spark\n",
    "spark = SparkSession.builder.appName(\"ConcatCSVFiles\").getOrCreate()\n",
    "\n",
    "# Folder where the CSV files are located\n",
    "folder_path = \"/Users/maxheilingbrunner/Documents/solar-energy-spatial-prediction/data\"\n",
    "\n",
    "# Define the range of months\n",
    "start_month = datetime.strptime(\"202203\", \"%Y%m\")\n",
    "end_month = datetime.strptime(\"202302\", \"%Y%m\")\n",
    "\n",
    "# Initialize an empty DataFrame to store final concatenated data\n",
    "malaga_df = None\n",
    "\n",
    "# Loop through each month in the range\n",
    "current_month = start_month\n",
    "while current_month.year < end_month.year or (current_month.year == end_month.year and current_month.month <= end_month.month):\n",
    "    # Construct file names\n",
    "    file_suffix = current_month.strftime(\"%Y%m\")\n",
    "    file_electricity = os.path.join(folder_path, f\"{file_suffix}_ELECTRICIDAD_MALAGA.csv\")\n",
    "    \n",
    "    # Read the CSV files into Spark DataFrames\n",
    "    if os.path.exists(file_electricity):\n",
    "        electricity_df = spark.read \\\n",
    "            .option(\"header\", \"true\") \\\n",
    "            .option(\"inferSchema\", \"true\") \\\n",
    "            .csv(file_electricity)\n",
    "        \n",
    "        # Concatenate the individual DataFrame with the final DataFrame\n",
    "        if malaga_df is None:\n",
    "            malaga_df = electricity_df\n",
    "        else:\n",
    "            malaga_df = malaga_df.union(electricity_df)\n",
    "        \n",
    "    else:\n",
    "        print(f\"The files for {file_suffix} were not found in the folder '{folder_path}'.\")\n",
    "\n",
    "    # Move to the next month\n",
    "    month, year = (current_month.month + 1, current_month.year) if current_month.month < 12 else (1, current_month.year + 1)\n",
    "    current_month = datetime(year, month, 1)\n",
    "\n",
    "# Now final_df contains the concatenated data. You can perform further operations on it.\n",
    "if malaga_df:\n",
    "    malaga_df.show()\n",
    "else:\n",
    "    print(\"No data to process.\")"
   ]
  },
  {
   "cell_type": "code",
   "execution_count": null,
   "metadata": {},
   "outputs": [],
   "source": [
    "spark.stop()"
   ]
  }
 ],
 "metadata": {
  "kernelspec": {
   "display_name": "Python 3",
   "language": "python",
   "name": "python3"
  },
  "language_info": {
   "codemirror_mode": {
    "name": "ipython",
    "version": 3
   },
   "file_extension": ".py",
   "mimetype": "text/x-python",
   "name": "python",
   "nbconvert_exporter": "python",
   "pygments_lexer": "ipython3",
   "version": "3.10.10"
  },
  "orig_nbformat": 4
 },
 "nbformat": 4,
 "nbformat_minor": 2
}
